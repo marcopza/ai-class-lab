{
 "cells": [
  {
   "cell_type": "code",
   "execution_count": 4,
   "metadata": {},
   "outputs": [],
   "source": [
    "import sys\n",
    "import math\n",
    "import functools\n",
    "import datetime"
   ]
  },
  {
   "cell_type": "code",
   "execution_count": 24,
   "metadata": {},
   "outputs": [],
   "source": [
    "def flatten_boxes(boxes):\n",
    "    exclusion = ['A2 B', 'B1 L', 'B2 L', 'B2 B']\n",
    "    return list(filter(None, functools.reduce(\n",
    "        lambda m, box: m + list(map(lambda side: f'{box[0]} {side}' if f'{box[0]} {side}' not in exclusion else None, list(box[1]))), boxes, [])))\n",
    "boxes = ['A1 LTRB', 'A2 LTRB', 'B1 LTRB', 'B2 LTRB']\n",
    "print(flatten_boxes(boxes))"
   ]
  },
  {
   "cell_type": "code",
   "execution_count": 25,
   "metadata": {},
   "outputs": [],
   "source": [
    "def remove_move(boxes, move):\n",
    "    move_box, move_side = move.split(' ')\n",
    "    clone = boxes[:]\n",
    "\n",
    "    opposites = {\n",
    "        'T': 'B',\n",
    "        'B': 'T',\n",
    "        'L': 'R',\n",
    "        'R': 'L'\n",
    "    }\n",
    "    \n",
    "    for i, box in enumerate(clone):\n",
    "        a = move_side == 'R' and move_box[1] == box[0][1] and ord(move_box[0])+1 == ord(box[0][0])\n",
    "        b = move_side == 'T' and move_box[0] == box[0][0] and ord(move_box[1])+1 == ord(box[0][1])\n",
    "        if box[0] == move_box:\n",
    "            new_sides = box[1].replace(move_side, '')\n",
    "            clone[i] = (box[0], new_sides) if new_sides != '' else None\n",
    "        elif a or b:\n",
    "            new_sides = box[1].replace(opposites[move_side],\"\")\n",
    "            clone[i] = (box[0], new_sides) if new_sides != '' else None\n",
    "            \n",
    "    nonone = list(filter(lambda b: not (b is None), clone))\n",
    "\n",
    "    return nonone"
   ]
  },
  {
   "cell_type": "code",
   "execution_count": 26,
   "metadata": {},
   "outputs": [],
   "source": [
    "def is_candidate_closed_by(box, move):\n",
    "    move_box, move_side = move.split(' ')\n",
    "    a = move_side == 'R' and move_box[1] == box[0][1] and ord(move_box[0])+1 == ord(box[0][0])\n",
    "    b = move_side == 'T' and move_box[0] == box[0][0] and ord(move_box[1])+1 == ord(box[0][1])\n",
    "    opposites = {\n",
    "        'T': 'B',\n",
    "        'B': 'T',\n",
    "        'L': 'R',\n",
    "        'R': 'L'\n",
    "    }\n",
    "\n",
    "    if box[0] == move_box and box[1] == move_side: # closes box\n",
    "        return True\n",
    "    if a: # closes same cloumn\n",
    "        return True\n",
    "    elif b: # closes same row\n",
    "        return True\n",
    "\n",
    "    return False"
   ]
  },
  {
   "cell_type": "code",
   "execution_count": 27,
   "metadata": {},
   "outputs": [],
   "source": [
    "def closed_boxes(boxes, move):\n",
    "    candidates = list(filter(lambda b: len(b[1]) == 1, boxes))\n",
    "    closed = list(filter(lambda b: is_candidate_closed_by(b, move), candidates))\n",
    "\n",
    "    return len(closed)"
   ]
  },
  {
   "cell_type": "code",
   "execution_count": 28,
   "metadata": {},
   "outputs": [
    {
     "data": {
      "text/plain": [
       "0"
      ]
     },
     "execution_count": 28,
     "metadata": {},
     "output_type": "execute_result"
    }
   ],
   "source": [
    "# boxes [('A1', 'LTRB'), ('A2', 'LTRB'), ('B1', 'LTRB'), ('B2', 'LTRB')] - primera optimizacion, eliminar jugadas repetidas\n",
    "# Hecho, lmao\n",
    "def alfa_beta(boxes, max_turn, max_score, min_score, depth, alpha, beta):\n",
    "    if depth == 0 or len(boxes) == 0: # segunda optimizacion, cortar en profundidad y evaluar\n",
    "        return max_score - min_score\n",
    "        \n",
    "    if max_turn:\n",
    "        max_eval = -10000\n",
    "        children =  flatten_boxes(boxes)\n",
    "        for move in children:\n",
    "            new_moves = remove_move(boxes, move)\n",
    "            closedBoxes = closed_boxes(boxes, move)\n",
    "            print(closedBoxes)# tercera optimizacion, usar numero de cajas cerradas para ordenar movimientos\n",
    "            new_max_score = max_score + closedBoxes \n",
    "            max_eval = max(max_eval, alfa_beta(new_moves, not max_turn, new_max_score, min_score, depth - 1, alpha, beta))\n",
    "            alpha = max(alpha, max_eval) # cuarta optimizacion, usar poda alfa-beta.Hecho, lmao\n",
    "            if beta <= alpha:\n",
    "                break\n",
    "        return max_eval\n",
    "    else:\n",
    "        min_eval = 10000\n",
    "        children =  flatten_boxes(boxes)\n",
    "        for move in children:\n",
    "            new_moves = remove_move(boxes, move)\n",
    "            new_min_score = min_score + closed_boxes(boxes, move)\n",
    "            min_eval = min(min_eval, alfa_beta(new_moves, not max_turn, max_score, new_min_score, depth - 1, alpha, beta))\n",
    "            beta = min(beta, min_eval)\n",
    "            if beta <= alpha:\n",
    "                break\n",
    "        return min_eval\n",
    "alfa_beta([('A1', 'LTRB'), ('A2', 'LTRB'), ('B1', 'LTRB'), ('B2', 'LTRB')], True, 0, 0, 3, -10000, 10000)"
   ]
  },
  {
   "cell_type": "code",
   "execution_count": null,
   "metadata": {},
   "outputs": [],
   "source": [
    "def move(boxes, player_score, opponent_score):\n",
    "  max_eval = -1000\n",
    "  children =  flatten_boxes(boxes)\n",
    "  best_move = None\n",
    "  for move in children:\n",
    "      new_moves = remove_move(boxes, move)\n",
    "      new_max_score = player_score + closed_boxes(boxes, move)\n",
    "      rating = alfa_beta(new_moves, True, new_max_score, opponent_score, 3, -1000, 1000)\n",
    "      if rating > max_eval:\n",
    "        max_eval = rating\n",
    "        best_move = move\n",
    "\n",
    "  return best_move"
   ]
  },
  {
   "cell_type": "code",
   "execution_count": null,
   "metadata": {},
   "outputs": [],
   "source": [
    "#game loop\n",
    "while True:\n",
    "    player_score, opponent_score = [int(i) for i in input().split()]\n",
    "\n",
    "    boxes = []\n",
    "    for i in range(int(input())):\n",
    "        boxes.append(input())\n",
    "\n",
    "    print(f'{move(boxes, player_score, opponent_score)} MSG {boxes}')"
   ]
  }
 ],
 "metadata": {
  "kernelspec": {
   "display_name": "Python 3",
   "language": "python",
   "name": "python3"
  },
  "language_info": {
   "codemirror_mode": {
    "name": "ipython",
    "version": 3
   },
   "file_extension": ".py",
   "mimetype": "text/x-python",
   "name": "python",
   "nbconvert_exporter": "python",
   "pygments_lexer": "ipython3",
   "version": "3.7.9"
  }
 },
 "nbformat": 4,
 "nbformat_minor": 4
}
